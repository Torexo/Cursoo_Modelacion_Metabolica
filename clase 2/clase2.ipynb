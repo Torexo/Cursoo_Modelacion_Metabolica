{
 "cells": [
  {
   "cell_type": "markdown",
   "metadata": {},
   "source": [
    "Objetivos:\n",
    "======\n",
    "* Utilizar Jupyter Notebooks\n",
    "* Introducción a metodos númericos con `numpy`\n",
    "* Graficar resultados (matplotlib)"
   ]
  },
  {
   "cell_type": "markdown",
   "metadata": {},
   "source": [
    "1. Resolución de sistemas de ecuaciones lineales: numpy\n",
    "--------------------------------------------------------\n",
    "\n",
    "El siguiente sistema de equaciones lineales\n",
    "\n",
    "\\begin{equation}\n",
    "10a + 2b = 20 \\\\ \n",
    "3a + 7b = 19\n",
    "\\end{equation}\n",
    "\n",
    "Se puede escribir como \n",
    "\n",
    "\\begin{equation}\n",
    "\\left[ \\begin{array}{ccc} 10 & 2 \\\\ 3 & 7 \\\\ \\end{array} \\right]\\left[ \\begin{array}{c} a \\\\ b \\\\ \\end{array} \\right] = \\left[ \\begin{array}{c} 20 \\\\ 19 \\\\ \\end{array} \\right]\n",
    "\\end{equation}\n",
    "\n",
    "O de manera más compacta:\n",
    "\n",
    "\\begin{equation} \n",
    "AX = B\n",
    "\\end{equation}\n",
    "\n",
    "En donde:\n",
    "\n",
    "\\begin{align}\n",
    "A & = \\left[ \\begin{array}{ccc} 10 & 2 \\\\ 3 & 7 \\\\ \\end{array} \\right] \\\\\n",
    "X &= \\left[ \\begin{array}{c} a \\\\ b \\\\ \\end{array} \\right] \\\\\n",
    "B &= \\left[ \\begin{array}{c} 20 \\\\ 19 \\\\ \\end{array} \\right] \\\\\n",
    "\\end{align}\n",
    "\n",
    "Usando algebra lineal podemos encontrar $X$:\n",
    "\n",
    "\\begin{align}\n",
    "AX &= B \\\\\n",
    "A^{-1} AX &= A^{-1}B \\\\\n",
    "X &= A^{-1}B\n",
    "\\end{align}\n",
    "\n",
    "Para resolver este sistema en Python utilizaremos la libreria [numpy](http://www.numpy.org/)"
   ]
  },
  {
   "cell_type": "code",
   "execution_count": 2,
   "metadata": {},
   "outputs": [
    {
     "name": "stdout",
     "output_type": "stream",
     "text": [
      "[[1.59375]\n",
      " [2.03125]]\n"
     ]
    }
   ],
   "source": [
    "# Carga la libreria numpy y la renombra np (simplemente para ser más conciso)\n",
    "import numpy as np \n",
    "\n",
    "# Definiendo matrices\n",
    "A = np.matrix([[10,2], [3,7]])\n",
    "B = np.matrix([[20], [19]])\n",
    "\n",
    "# Calculando la inversa de A\n",
    "A_inverse = np.linalg.inv(A)\n",
    "\n",
    "# Resolviendo para X\n",
    "X = A_inverse * B # esta es la libreria de al\n",
    "print X\n"
   ]
  },
  {
   "cell_type": "markdown",
   "metadata": {},
   "source": [
    "Ejercicios\n",
    "-----------\n",
    "\n",
    "Resuelve los siguientes sistemas de ecuaciones, definiendo una función que tome como input $A$ y $B$, y entregue como resultado $X$.\n",
    "\n",
    "1. Sistema de 3x3\n",
    "\n",
    "    \\begin{align}\n",
    "    10a + 2b + 3c &= 20 \\\\ \n",
    "    3a + 7b + 5c &= 19 \\\\\n",
    "    3a + 7b + 7c &= 15\n",
    "    \\end{align}\n",
    "\n",
    "2. Sistema de 4x4\n",
    "\n",
    "    \\begin{align}\n",
    "    10a + 2b + 3c + 3d &= 20 \\\\ \n",
    "    3a + 7b + 5c + 1d &= 19 \\\\\n",
    "    3a + 7b + 7c + 10d &= 15 \\\\\n",
    "    4a + 9b + 8c + 9d &= 18 \n",
    "    \\end{align}\n"
   ]
  },
  {
   "cell_type": "code",
   "execution_count": 7,
   "metadata": {},
   "outputs": [
    {
     "name": "stdout",
     "output_type": "stream",
     "text": [
      "[[ 1.9375]\n",
      " [ 3.3125]\n",
      " [-2.    ]]\n"
     ]
    }
   ],
   "source": [
    "import numpy as np\n",
    "A=np.matrix([[10,2,3],[3,7,5],[3,7,7]])\n",
    "B=np.matrix([[20],[19],[15]])\n",
    "\n",
    "def sel(A,B):\n",
    "    A_inv=np.linalg.inv(A)\n",
    "    return A_inv*B\n",
    "X=sel(A,B)\n",
    "print (X)"
   ]
  },
  {
   "cell_type": "code",
   "execution_count": 8,
   "metadata": {},
   "outputs": [
    {
     "name": "stdout",
     "output_type": "stream",
     "text": [
      "[[ -0.45054945]\n",
      " [-11.05494505]\n",
      " [ 20.54945055]\n",
      " [ -5.01098901]]\n"
     ]
    }
   ],
   "source": [
    "import numpy as np\n",
    "A=np.matrix([[10,2,3,3],[3,7,5,1],[3,7,7,10],[4,9,8,9]])\n",
    "B=np.matrix([[20],[19],[15],[18]])\n",
    "\n",
    "def sel(A,B):\n",
    "    A_inv=np.linalg.inv(A)\n",
    "    return A_inv*B\n",
    "X=sel(A,B)\n",
    "print (X)"
   ]
  },
  {
   "cell_type": "code",
   "execution_count": 10,
   "metadata": {},
   "outputs": [],
   "source": [
    "import matplotlib"
   ]
  },
  {
   "cell_type": "markdown",
   "metadata": {},
   "source": [
    "2. Estadistica: distribución normal\n",
    "-----------------------------------\n",
    "\n",
    "En teoría de la probabilidad, la [distribución normal](https://en.wikipedia.org/wiki/Normal_distribution) \n",
    "es una de las más comunmente usadas. Matematicamente corresponde a:\n",
    "\n",
    "\\begin{equation}\n",
    "f(x | \\mu,\\sigma^2)={{1}\\over{ \\sqrt{ 2\\pi \\sigma^2 } } } e^{- {{(x-\\mu)^2} \\over {2 \\sigma^2}} }\n",
    "\\end{equation}\n",
    "\n",
    "En Python, la libreria numpy tiene una implementación de esta distribución. Veamos un ejempplo."
   ]
  },
  {
   "cell_type": "code",
   "execution_count": 23,
   "metadata": {
    "scrolled": true
   },
   "outputs": [
    {
     "data": {
      "image/png": "[encoded data removed]",
      "text/plain": [
       "<Figure size 432x288 with 1 Axes>"
      ]
     },
     "metadata": {},
     "output_type": "display_data"
    },
    {
     "data": {
      "text/plain": [
       "array([0.13890976, 0.04630325, 0.37042604, 0.37042604, 0.78715533,\n",
       "       0.78715533, 1.29649113, 1.15758136, 2.40776923, 2.59298225,\n",
       "       3.19492456, 3.93577663, 4.35250592, 3.75056361, 4.12098965,\n",
       "       2.91710503, 3.61165385, 2.82449852, 2.08364645, 1.94473669,\n",
       "       1.11127811, 1.20388462, 0.5093358 , 0.18521302, 0.32412278,\n",
       "       0.09260651, 0.09260651, 0.04630325, 0.        , 0.04630325])"
      ]
     },
     "execution_count": 23,
     "metadata": {},
     "output_type": "execute_result"
    }
   ],
   "source": [
    "mu, sigma = 0, 0.1 # promedio y desviación estandar\n",
    "s = np.random.normal(mu, sigma, 1000) # 1000 puntos generados aleatoriamente\n",
    "\n",
    "# Grafico de los puntos muestreados (samples)\n",
    "import matplotlib.pyplot as plt\n",
    "\n",
    "n, bins, blabla = plt.hist(s, 30, normed=True,edgecolor='black') # Crea un histograma\n",
    "plt.plot(bins, 1/(sigma * np.sqrt(2 * np.pi)) *np.exp( - (bins - mu)**2 / (2 * sigma**2) ),\n",
    "         linewidth=2, color='r') # Crea una linea calculada usando la ecuacion de la distribución normal\n",
    "plt.show(a) # Muestra el grafico en pantalla\n",
    "n"
   ]
  },
  {
   "cell_type": "markdown",
   "metadata": {},
   "source": [
    "La generación de datos aleatorios (usando la distribución normal u otras) es especialmente útil cuando se necesita simular datos experimentales. Esto se hará evidente en la próxima sección.\n",
    "\n",
    "Ejercicios\n",
    "-----------\n",
    "\n",
    "Simula y gráfica tres distribuciones normales, cada una con los siguientes parámetros:\n",
    "\n",
    "1. $\\mu=10$, $\\sigma=0.7$\n",
    "2. $\\mu=-10$, $\\sigma=0.7$\n",
    "3. $\\mu=10$, $\\sigma=2.7$"
   ]
  },
  {
   "cell_type": "code",
   "execution_count": 24,
   "metadata": {},
   "outputs": [
    {
     "data": {
      "image/png": "[encoded data removed]",
      "text/plain": [
       "<Figure size 432x288 with 1 Axes>"
      ]
     },
     "metadata": {},
     "output_type": "display_data"
    },
    {
     "data": {
      "text/plain": [
       "array([0.013285  , 0.        , 0.039855  , 0.02657   , 0.0730675 ,\n",
       "       0.0996375 , 0.25241501, 0.1660625 , 0.38526501, 0.41847751,\n",
       "       0.47161751, 0.54468502, 0.61111002, 0.50483001, 0.63103752,\n",
       "       0.48490251, 0.43840501, 0.45833251, 0.31219751, 0.19263251,\n",
       "       0.1394925 , 0.1394925 , 0.0863525 , 0.0464975 , 0.0199275 ,\n",
       "       0.02657   , 0.0199275 , 0.0066425 , 0.0199275 , 0.013285  ])"
      ]
     },
     "execution_count": 24,
     "metadata": {},
     "output_type": "execute_result"
    }
   ],
   "source": [
    "mu, sigma = 10, 0.7 # promedio y desviación estandar\n",
    "s = np.random.normal(mu, sigma, 1000) # 1000 puntos generados aleatoriamente\n",
    "\n",
    "# Grafico de los puntos muestreados (samples)\n",
    "import matplotlib.pyplot as plt\n",
    "\n",
    "n, bins, blabla = plt.hist(s, 30, normed=True,edgecolor='black') # Crea un histograma\n",
    "plt.plot(bins, 1/(sigma * np.sqrt(2 * np.pi)) *np.exp( - (bins - mu)**2 / (2 * sigma**2) ),\n",
    "         linewidth=2, color='r') # Crea una linea calculada usando la ecuacion de la distribución normal\n",
    "plt.show() # Muestra el grafico en pantalla\n",
    "n"
   ]
  },
  {
   "cell_type": "code",
   "execution_count": 25,
   "metadata": {},
   "outputs": [
    {
     "data": {
      "image/png": "[encoded data removed]",
      "text/plain": [
       "<Figure size 432x288 with 1 Axes>"
      ]
     },
     "metadata": {},
     "output_type": "display_data"
    },
    {
     "data": {
      "text/plain": [
       "array([0.00613435, 0.        , 0.0122687 , 0.02453741, 0.04294046,\n",
       "       0.04294046, 0.09201528, 0.1410901 , 0.22697103, 0.25764279,\n",
       "       0.31285196, 0.36806113, 0.52141993, 0.47847946, 0.51528558,\n",
       "       0.63183826, 0.51528558, 0.42327029, 0.42327029, 0.33125501,\n",
       "       0.18403056, 0.25150844, 0.1410901 , 0.10428399, 0.03680611,\n",
       "       0.02453741, 0.00613435, 0.00613435, 0.00613435, 0.00613435])"
      ]
     },
     "execution_count": 25,
     "metadata": {},
     "output_type": "execute_result"
    }
   ],
   "source": [
    "mu, sigma = -10, 0.7 # promedio y desviación estandar\n",
    "s = np.random.normal(mu, sigma, 1000) # 1000 puntos generados aleatoriamente\n",
    "\n",
    "# Grafico de los puntos muestreados (samples)\n",
    "import matplotlib.pyplot as plt\n",
    "\n",
    "n, bins, blabla = plt.hist(s, 30, normed=True,edgecolor='black') # Crea un histograma\n",
    "plt.plot(bins, 1/(sigma * np.sqrt(2 * np.pi)) *np.exp( - (bins - mu)**2 / (2 * sigma**2) ),\n",
    "         linewidth=2, color='r') # Crea una linea calculada usando la ecuacion de la distribución normal\n",
    "plt.show() # Muestra el grafico en pantalla\n",
    "n"
   ]
  },
  {
   "cell_type": "code",
   "execution_count": 26,
   "metadata": {},
   "outputs": [
    {
     "data": {
      "image/png": "[encoded data removed]",
      "text/plain": [
       "<Figure size 432x288 with 1 Axes>"
      ]
     },
     "metadata": {},
     "output_type": "display_data"
    },
    {
     "data": {
      "text/plain": [
       "array([0.00157899, 0.        , 0.        , 0.00157899, 0.00315798,\n",
       "       0.00631595, 0.00473697, 0.01263191, 0.02526381, 0.03315876,\n",
       "       0.05526459, 0.05210662, 0.08368639, 0.10737121, 0.12158211,\n",
       "       0.135793  , 0.135793  , 0.16579378, 0.135793  , 0.11526615,\n",
       "       0.10421323, 0.08684436, 0.06631751, 0.04736965, 0.03157977,\n",
       "       0.01578988, 0.00947393, 0.01105292, 0.00631595, 0.00315798])"
      ]
     },
     "execution_count": 26,
     "metadata": {},
     "output_type": "execute_result"
    }
   ],
   "source": [
    "mu, sigma = 10, 2.7 # promedio y desviación estandar\n",
    "s = np.random.normal(mu, sigma, 1000) # 1000 puntos generados aleatoriamente\n",
    "\n",
    "# Grafico de los puntos muestreados (samples)\n",
    "import matplotlib.pyplot as plt\n",
    "\n",
    "n, bins, blabla = plt.hist(s, 30, normed=True,edgecolor='black') # Crea un histograma\n",
    "plt.plot(bins, 1/(sigma * np.sqrt(2 * np.pi)) *np.exp( - (bins - mu)**2 / (2 * sigma**2) ),\n",
    "         linewidth=2, color='r') # Crea una linea calculada usando la ecuacion de la distribución normal\n",
    "plt.show() # Muestra el grafico en pantalla\n",
    "n"
   ]
  },
  {
   "cell_type": "markdown",
   "metadata": {},
   "source": [
    "3. Ajuste por minimización de los minimos cuadrados\n",
    "---------------------------------------------------\n",
    "\n",
    "Dado un conjunto de datos experimentales $\\{t,y\\} \\in R^n$ y una función $f(t|\\alpha)$ el objetivo es encontrar el valor de $\\alpha$ que minimize la suma de los errores (también llamados residuales):\n",
    "\n",
    "\\begin{equation}\n",
    " S=\\sum_i^n r_i^2 \\\\\n",
    " r_i = y_i-f(t_i|\\alpha)\n",
    "\\end{equation}\n",
    "\n",
    "Ejemplo:"
   ]
  },
  {
   "cell_type": "code",
   "execution_count": 36,
   "metadata": {},
   "outputs": [
    {
     "data": {
      "image/png": "[encoded data removed]",
      "text/plain": [
       "<Figure size 432x288 with 1 Axes>"
      ]
     },
     "metadata": {},
     "output_type": "display_data"
    }
   ],
   "source": [
    "import numpy as np\n",
    "import scipy as sp\n",
    "import matplotlib.pyplot as plt\n",
    "\n",
    "# Generar datos {t,y}, en donde y=t^2\n",
    "t = np.linspace(0,100,200)\n",
    "parabola = t**1.93 \n",
    "noise = np.random.normal(0,300,200)\n",
    "y = parabola + noise\n",
    "plt.plot(t,y,'.')\n",
    "plt.show()\n"
   ]
  },
  {
   "cell_type": "markdown",
   "metadata": {},
   "source": [
    "Para encontrar el valor de $\\alpha$ usaremos la funcion leastsq de scipy"
   ]
  },
  {
   "cell_type": "code",
   "execution_count": 40,
   "metadata": {},
   "outputs": [
    {
     "name": "stdout",
     "output_type": "stream",
     "text": [
      "(array([1.92875767]), 1)\n"
     ]
    },
    {
     "data": {
      "image/png": "[encoded data removed]",
      "text/plain": [
       "<Figure size 432x288 with 1 Axes>"
      ]
     },
     "metadata": {},
     "output_type": "display_data"
    }
   ],
   "source": [
    "from scipy.optimize import leastsq\n",
    "def residual(alpha,x,y):\n",
    "    model = np.power(x,alpha)\n",
    "    return y-model\n",
    "\n",
    "out=leastsq(residual,2,args=(t,y))\n",
    "print out\n",
    "out[0][0]\n",
    "fit=t**out[0][0]\n",
    "plt.plot(t,y,'ro')\n",
    "plt.plot(t,fit)\n",
    "plt.show()"
   ]
  },
  {
   "cell_type": "markdown",
   "metadata": {},
   "source": [
    "Ejercicios\n",
    "----------\n",
    "\n",
    "1. Crear una sequencia $\\{t,y\\} \\in R^{200}$ en donde: $y=sin(t)\\alpha$, y $\\alpha=4.3$.\n",
    "2. Agregar ruido normal ($\\mu=0, \\sigma=0.2$) a $y$, para obtener $y'$.\n",
    "3. Dados $\\{t,y'\\}$ crear una función para encontrar el valor de $\\alpha$.\n",
    "4. Graficar los resultados, incluyendo la curva ajustada.\n",
    "5. Repetir lo anterior, pero esta vez con $y=mt+b$, en donde $m=2$ y $b=0.5$.\n"
   ]
  },
  {
   "cell_type": "code",
   "execution_count": 57,
   "metadata": {},
   "outputs": [
    {
     "name": "stdout",
     "output_type": "stream",
     "text": [
      "(array([4.28651606]), 2)\n"
     ]
    },
    {
     "data": {
      "text/plain": [
       "[<matplotlib.lines.Line2D at 0xa3e7b70>]"
      ]
     },
     "execution_count": 57,
     "metadata": {},
     "output_type": "execute_result"
    },
    {
     "data": {
      "image/png": "[encoded data removed]",
      "text/plain": [
       "<Figure size 432x288 with 1 Axes>"
      ]
     },
     "metadata": {},
     "output_type": "display_data"
    }
   ],
   "source": [
    "import scipy as sp\n",
    "import numpy as np\n",
    "import matplotlib.pyplot as plt\n",
    "from scipy.optimize import leastsq\n",
    "\n",
    "#1\n",
    "alfa=4.3\n",
    "t=np.linspace(0,4*np.pi,200)\n",
    "funcion=alfa*np.sin(t)\n",
    "#2\n",
    "noise=np.random.normal(0,0.2,200)\n",
    "y=funcion+noise\n",
    "#3\n",
    "def res(alfa,x,y):\n",
    "    sim=alfa*np.sin(x)\n",
    "    return y-sim\n",
    "\n",
    "out=leastsq(res,5,args=(t,y))\n",
    "print out\n",
    "#4\n",
    "fit=out[0][0]*np.sin(t)\n",
    "plt.plot(t,y,'ro')\n",
    "plt.plot(t,fit)\n",
    "\n"
   ]
  },
  {
   "cell_type": "code",
   "execution_count": 1,
   "metadata": {},
   "outputs": [
    {
     "name": "stdout",
     "output_type": "stream",
     "text": [
      "(array([2.00286609, 0.46183512]), 3)\n"
     ]
    },
    {
     "data": {
      "text/plain": [
       "[<matplotlib.lines.Line2D at 0x646c668>]"
      ]
     },
     "execution_count": 1,
     "metadata": {},
     "output_type": "execute_result"
    }
   ],
   "source": [
    "import scipy as sp\n",
    "import numpy as np\n",
    "import matplotlib.pyplot as plt\n",
    "from scipy.optimize import leastsq\n",
    "\n",
    "#1\n",
    "m=2\n",
    "b=0.5\n",
    "t=np.linspace(0,10,200)\n",
    "funcion=m*t+b\n",
    "#2\n",
    "noise=np.random.normal(0,0.2,200)\n",
    "y=funcion+noise\n",
    "#3\n",
    "def res(params,x,y):\n",
    "    m=params[0]\n",
    "    b=params[1]\n",
    "    sim=m*x+b\n",
    "    return y-sim\n",
    "\n",
    "out=leastsq(res,[5,3],args=(t,y))\n",
    "print out\n",
    "#4\n",
    "fit=out[0][0]*t+out[0][1]\n",
    "plt.plot(t,y,'ro')\n",
    "plt.plot(t,fit)"
   ]
  },
  {
   "cell_type": "markdown",
   "metadata": {},
   "source": [
    "Tarea\n",
    "=====\n",
    "\n",
    "1. Obligatorio: crear una cuenta en [github](https://github.com). \n",
    "2. Opcional: ver el siguiente [video](https://www.youtube.com/watch?v=CEN4XNth61o)\n",
    "\n",
    "(Tus trabajos serán evaluados a través de github)"
   ]
  },
  {
   "cell_type": "markdown",
   "metadata": {},
   "source": [
    "Extra: Espacio factible de un problema de optmización lineal\n",
    "---------------------------------------------------------------------\n",
    "\n",
    "Este no es un ejercicio pero una demostración gráfica del espacio factible de un problema de optimización lineal. Este concepto es simple pero no siempre fácil de entender. Abajo usaremos Python para entender a través de un ejemplo simple de que se trata."
   ]
  },
  {
   "cell_type": "code",
   "execution_count": null,
   "metadata": {},
   "outputs": [],
   "source": [
    "import numpy as np\n",
    "import matplotlib.pyplot as plt\n",
    "#%matplotlib inline\n",
    "\n",
    "# Construct lines\n",
    "# x > 0\n",
    "x = np.linspace(0, 20, 2000)\n",
    "# y >= 2\n",
    "y1 = (x*0) + 2\n",
    "# 2y <= 25 - x\n",
    "y2 = (25-x)/2.0\n",
    "# 4y >= 2x - 8 \n",
    "y3 = (2*x-8)/4.0\n",
    "# y <= 2x - 5 \n",
    "y4 = 2 * x -5\n",
    "\n",
    "# Make plot\n",
    "plt.plot(x, y1, label=r'$y\\geq2$')\n",
    "plt.plot(x, y2, label=r'$2y\\leq25-x$')\n",
    "plt.plot(x, y3, label=r'$4y\\geq 2x - 8$')\n",
    "plt.plot(x, y4, label=r'$y\\leq 2x-5$')\n",
    "plt.xlim((0, 16))\n",
    "plt.ylim((0, 11))\n",
    "plt.xlabel(r'$x$')\n",
    "plt.ylabel(r'$y$')\n",
    "\n",
    "# Fill feasible region\n",
    "y5 = np.minimum(y2, y4)\n",
    "y6 = np.maximum(y1, y3)\n",
    "plt.fill_between(x, y5, y6, where=y5>y6, color='grey', alpha=0.5)\n",
    "plt.legend(bbox_to_anchor=(1.05, 1), loc=2, borderaxespad=0.)\n",
    "plt.show()"
   ]
  },
  {
   "cell_type": "code",
   "execution_count": null,
   "metadata": {
    "collapsed": true
   },
   "outputs": [],
   "source": []
  }
 ],
 "metadata": {
  "kernelspec": {
   "display_name": "Python 2",
   "language": "python",
   "name": "python2"
  },
  "language_info": {
   "codemirror_mode": {
    "name": "ipython",
    "version": 2
   },
   "file_extension": ".py",
   "mimetype": "text/x-python",
   "name": "python",
   "nbconvert_exporter": "python",
   "pygments_lexer": "ipython2",
   "version": "2.7.15"
  }
 },
 "nbformat": 4,
 "nbformat_minor": 2
}
